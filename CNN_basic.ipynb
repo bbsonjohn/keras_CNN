{
 "cells": [
  {
   "cell_type": "markdown",
   "metadata": {},
   "source": [
    "# Deep convolutional neural network binary classifier\n",
    "\n",
    "__Author:__ John Leung\n",
    "\n",
    "__Content:__ This program is a CNN using the keras framework. It accepts a train set of labeled data (X_train, Y_train) to train the weights of the network. Then it tests it on a test set (X_test, Y_test). The architecture of of the CNN follows input → Conv → FC → output, with built-in dropout, max-pooling, ResNet and batch normalization. The task involved in the default data is to identify whether a person is smiling (y=1) or not (y=0). The default image size is 64×64 with 3 channels (RGB).\n",
    "\n",
    "This program is inspired by and use data source from the course on [Convolutional Neural Network](https://www.coursera.org/learn/convolutional-neural-networks) provided by __deeplearning.ai__ on __Coursera__."
   ]
  },
  {
   "cell_type": "code",
   "execution_count": 1,
   "metadata": {},
   "outputs": [
    {
     "name": "stderr",
     "output_type": "stream",
     "text": [
      "Using TensorFlow backend.\n"
     ]
    }
   ],
   "source": [
    "import numpy as np\n",
    "from keras import layers\n",
    "from keras import optimizers\n",
    "from keras.layers import Input, Dense, Activation, ZeroPadding2D, BatchNormalization, Flatten, Conv2D\n",
    "from keras.layers import AveragePooling2D, MaxPooling2D, Dropout, GlobalMaxPooling2D, GlobalAveragePooling2D\n",
    "from keras.models import Model, Sequential\n",
    "from keras.preprocessing import image\n",
    "from keras.utils import layer_utils\n",
    "from keras.utils.data_utils import get_file\n",
    "from keras.applications.imagenet_utils import preprocess_input\n",
    "import pydot\n",
    "from IPython.display import SVG\n",
    "from keras.utils.vis_utils import model_to_dot\n",
    "from keras.utils import plot_model\n",
    "from kt_utils import *\n",
    "\n",
    "import keras.backend as K\n",
    "K.set_image_data_format('channels_last')\n",
    "import matplotlib.pyplot as plt\n",
    "from matplotlib.pyplot import imshow\n",
    "\n",
    "%matplotlib inline"
   ]
  },
  {
   "cell_type": "markdown",
   "metadata": {},
   "source": [
    "Loading the data set. We use the convention X:{examples, feature_width, feature_height, feature_depth (color)} and Y:{samples, 1}."
   ]
  },
  {
   "cell_type": "code",
   "execution_count": 2,
   "metadata": {},
   "outputs": [
    {
     "name": "stdout",
     "output_type": "stream",
     "text": [
      "number of training examples = 600\n",
      "number of test examples = 150\n",
      "X_train shape: (600, 64, 64, 3)\n",
      "Y_train shape: (600, 1)\n",
      "X_test shape: (150, 64, 64, 3)\n",
      "Y_test shape: (150, 1)\n"
     ]
    }
   ],
   "source": [
    "X_train_orig, Y_train_orig, X_test_orig, Y_test_orig, classes = load_dataset()\n",
    "\n",
    "# Normalize image vectors\n",
    "X_train = X_train_orig/255.\n",
    "X_test = X_test_orig/255.\n",
    "\n",
    "# Reshape\n",
    "Y_train = Y_train_orig.T\n",
    "Y_test = Y_test_orig.T\n",
    "\n",
    "\n",
    "print (\"number of training examples = \" + str(X_train.shape[0]))\n",
    "print (\"number of test examples = \" + str(X_test.shape[0]))\n",
    "print (\"X_train shape: \" + str(X_train.shape))\n",
    "print (\"Y_train shape: \" + str(Y_train.shape))\n",
    "print (\"X_test shape: \" + str(X_test.shape))\n",
    "print (\"Y_test shape: \" + str(Y_test.shape))"
   ]
  },
  {
   "cell_type": "markdown",
   "metadata": {},
   "source": [
    "## Create a fast model\n",
    "Create and compile a model in a sequential manner and immediately evaluate it on the test set using \"accuracy\" as the measure."
   ]
  },
  {
   "cell_type": "code",
   "execution_count": 102,
   "metadata": {},
   "outputs": [
    {
     "name": "stdout",
     "output_type": "stream",
     "text": [
      "Epoch 1/40\n",
      "600/600 [==============================] - 2s 3ms/step - loss: 0.4973 - accuracy: 0.7550\n",
      "Epoch 2/40\n",
      "600/600 [==============================] - 1s 2ms/step - loss: 0.2589 - accuracy: 0.9117\n",
      "Epoch 3/40\n",
      "600/600 [==============================] - 1s 2ms/step - loss: 0.1897 - accuracy: 0.9367\n",
      "Epoch 4/40\n",
      "600/600 [==============================] - 1s 2ms/step - loss: 0.1503 - accuracy: 0.9517\n",
      "Epoch 5/40\n",
      "600/600 [==============================] - 1s 2ms/step - loss: 0.1084 - accuracy: 0.9800\n",
      "Epoch 6/40\n",
      "600/600 [==============================] - 1s 2ms/step - loss: 0.1101 - accuracy: 0.9767\n",
      "Epoch 7/40\n",
      "600/600 [==============================] - 1s 2ms/step - loss: 0.1023 - accuracy: 0.9733\n",
      "Epoch 8/40\n",
      "600/600 [==============================] - 1s 2ms/step - loss: 0.0756 - accuracy: 0.9850\n",
      "Epoch 9/40\n",
      "600/600 [==============================] - 1s 2ms/step - loss: 0.0836 - accuracy: 0.9750\n",
      "Epoch 10/40\n",
      "600/600 [==============================] - 1s 2ms/step - loss: 0.0839 - accuracy: 0.9833\n",
      "Epoch 11/40\n",
      "600/600 [==============================] - 1s 2ms/step - loss: 0.0665 - accuracy: 0.9900\n",
      "Epoch 12/40\n",
      "600/600 [==============================] - 1s 2ms/step - loss: 0.0782 - accuracy: 0.9783\n",
      "Epoch 13/40\n",
      "600/600 [==============================] - 1s 2ms/step - loss: 0.0761 - accuracy: 0.9783\n",
      "Epoch 14/40\n",
      "600/600 [==============================] - 1s 2ms/step - loss: 0.0527 - accuracy: 0.9933\n",
      "Epoch 15/40\n",
      "600/600 [==============================] - 1s 2ms/step - loss: 0.0679 - accuracy: 0.9850\n",
      "Epoch 16/40\n",
      "600/600 [==============================] - 1s 2ms/step - loss: 0.0544 - accuracy: 0.9867\n",
      "Epoch 17/40\n",
      "600/600 [==============================] - 1s 2ms/step - loss: 0.0458 - accuracy: 0.9900\n",
      "Epoch 18/40\n",
      "600/600 [==============================] - 1s 2ms/step - loss: 0.0388 - accuracy: 0.9917\n",
      "Epoch 19/40\n",
      "600/600 [==============================] - 1s 2ms/step - loss: 0.0490 - accuracy: 0.9900\n",
      "Epoch 20/40\n",
      "600/600 [==============================] - 1s 2ms/step - loss: 0.0471 - accuracy: 0.9900\n",
      "Epoch 21/40\n",
      "600/600 [==============================] - 1s 2ms/step - loss: 0.0342 - accuracy: 0.9950\n",
      "Epoch 22/40\n",
      "600/600 [==============================] - 1s 2ms/step - loss: 0.0454 - accuracy: 0.9900\n",
      "Epoch 23/40\n",
      "600/600 [==============================] - 1s 2ms/step - loss: 0.0435 - accuracy: 0.9867\n",
      "Epoch 24/40\n",
      "600/600 [==============================] - 1s 2ms/step - loss: 0.0299 - accuracy: 0.9950\n",
      "Epoch 25/40\n",
      "600/600 [==============================] - 1s 2ms/step - loss: 0.0270 - accuracy: 0.9967\n",
      "Epoch 26/40\n",
      "600/600 [==============================] - 1s 2ms/step - loss: 0.0239 - accuracy: 0.9917\n",
      "Epoch 27/40\n",
      "600/600 [==============================] - 1s 2ms/step - loss: 0.0729 - accuracy: 0.9700\n",
      "Epoch 28/40\n",
      "600/600 [==============================] - 1s 2ms/step - loss: 0.0309 - accuracy: 0.9950\n",
      "Epoch 29/40\n",
      "600/600 [==============================] - 1s 2ms/step - loss: 0.0262 - accuracy: 0.9950\n",
      "Epoch 30/40\n",
      "600/600 [==============================] - 1s 2ms/step - loss: 0.0379 - accuracy: 0.9917\n",
      "Epoch 31/40\n",
      "600/600 [==============================] - 1s 2ms/step - loss: 0.0421 - accuracy: 0.9883\n",
      "Epoch 32/40\n",
      "600/600 [==============================] - 1s 2ms/step - loss: 0.0249 - accuracy: 0.9967\n",
      "Epoch 33/40\n",
      "600/600 [==============================] - 1s 2ms/step - loss: 0.0148 - accuracy: 1.0000\n",
      "Epoch 34/40\n",
      "600/600 [==============================] - 1s 2ms/step - loss: 0.0179 - accuracy: 0.9983\n",
      "Epoch 35/40\n",
      "600/600 [==============================] - 1s 2ms/step - loss: 0.0155 - accuracy: 1.0000\n",
      "Epoch 36/40\n",
      "600/600 [==============================] - 1s 2ms/step - loss: 0.0163 - accuracy: 1.0000\n",
      "Epoch 37/40\n",
      "600/600 [==============================] - 1s 2ms/step - loss: 0.0174 - accuracy: 0.9983\n",
      "Epoch 38/40\n",
      "600/600 [==============================] - 1s 2ms/step - loss: 0.0122 - accuracy: 0.9983\n",
      "Epoch 39/40\n",
      "600/600 [==============================] - 1s 2ms/step - loss: 0.0110 - accuracy: 0.9983\n",
      "Epoch 40/40\n",
      "600/600 [==============================] - 1s 2ms/step - loss: 0.0356 - accuracy: 0.9900\n",
      "150/150 [==============================] - 0s 342us/step\n",
      "Loss = 0.283864483436\n",
      "Test Accuracy = 0.879999995232\n"
     ]
    }
   ],
   "source": [
    "def create_model():\n",
    "    # Build model\n",
    "    model = Sequential()\n",
    "    model.add(Conv2D(filters = 32, kernel_size = (3,3), strides = (2,2), padding = 'same'))\n",
    "    model.add(Dropout(0.2))\n",
    "    model.add(BatchNormalization(axis = 3))\n",
    "    model.add(Conv2D(filters = 16, kernel_size = (3,3), strides = (1,1), padding = 'same'))\n",
    "    model.add(Dropout(0.2))\n",
    "    model.add(BatchNormalization(axis = 3))\n",
    "    model.add(Flatten())\n",
    "    model.add(Dense(16, activation='relu'))\n",
    "    model.add(BatchNormalization())\n",
    "    model.add(Dense(1, activation='sigmoid'))\n",
    "    # Compile model\n",
    "    adam = optimizers.Adam(lr=0.0003, beta_1=0.9, beta_2=0.999)\n",
    "    model.compile(loss='binary_crossentropy', optimizer=adam, metrics=['accuracy'])\n",
    "    return model\n",
    "\n",
    "fast_model = create_model()\n",
    "fast_model.fit(x = X_train, y = Y_train, epochs = 40, batch_size = 16)\n",
    "\n",
    "###################  test set evaluation ######################\n",
    "preds = CNNModel.evaluate(x = X_test, y = Y_test)\n",
    "print (\"Loss = \" + str(preds[0]))\n",
    "print (\"Test Accuracy = \" + str(preds[1]))"
   ]
  },
  {
   "cell_type": "markdown",
   "metadata": {},
   "source": [
    "## Building CNN with block architecture\n",
    "\n",
    "Designing a deeper and more complicated model using a block architecture. We define, as a baseline, we define two kinds of block: The convolutional (Conv) block with 2D filters, and the fully-connected (FC) block that unrolls the 2D activations to a vector and sets up a fully-connected neural network."
   ]
  },
  {
   "cell_type": "code",
   "execution_count": 3,
   "metadata": {},
   "outputs": [],
   "source": [
    "def Conv_block(X, f, s, n_filters, name, pad = 'same', pooling = 1, ResNet = False, X_shortcut = None, dropout = 0.):\n",
    "    \"\"\"\n",
    "    X -- input tensor of shape (m, n_H_prev, n_W_prev, n_C_prev)\n",
    "    f -- filter size (int), f_w = f_h = f\n",
    "    s -- stride (integer), s_w = s_h = s\n",
    "    p -- padding (str), 'valid' or 'same'\n",
    "    n_filters -- number of filter (int), depth of the CONV\n",
    "    pooling -- pooling filter size (int), using max_pooling\n",
    "    dropout -- dropout rate (float), 0. <= f < 1.0\n",
    "    name -- name of the layer (str)\n",
    "    \n",
    "    Returns:\n",
    "    X -- output of the identity block, tensor of shape (n_H, n_W, n_C)\n",
    "    \"\"\"\n",
    "    \n",
    "    # defining name basis\n",
    "    conv_name = 'conv_' + name\n",
    "    do_name = 'do_' + name\n",
    "    bn_name = 'bn_' + name\n",
    "    pl_name = 'pool_' + name\n",
    "    \n",
    "    if dropout > 0:\n",
    "        X = Dropout(dropout, name=do_name)(X)\n",
    "    \n",
    "    X = Conv2D(filters = n_filters, kernel_size = (f,f), strides = (s,s), padding = pad, name = conv_name)(X)\n",
    "    X = BatchNormalization(axis = 3, name = bn_name)(X)\n",
    "\n",
    "    if ResNet:\n",
    "        X = Add()([X_shortcut,X])\n",
    "        \n",
    "    X = Activation('relu')(X)\n",
    "\n",
    "    if pooling > 1:\n",
    "        X = MaxPooling2D((pooling, pooling), name=pl_name, padding = pad)(X)\n",
    "    \n",
    "    return X"
   ]
  },
  {
   "cell_type": "code",
   "execution_count": 4,
   "metadata": {},
   "outputs": [],
   "source": [
    "def FC_block(X, n_filters, name, activation = 'relu', flattenX = False):\n",
    "\n",
    "    fc_name = 'fc_' + name\n",
    "\n",
    "    if flattenX:\n",
    "        X = Flatten()(X)\n",
    "        \n",
    "    X = Dense(n_filters, activation=activation, name=fc_name)(X)\n",
    "\n",
    "    if activation == 'relu':\n",
    "        bn_name = 'bn_' + name\n",
    "        X = BatchNormalization(name = bn_name)(X)\n",
    "        \n",
    "    return X"
   ]
  },
  {
   "cell_type": "markdown",
   "metadata": {},
   "source": [
    "## Building the model with blocks\n",
    "\n",
    "Constructing a CNN model by linking the previously defined block modules."
   ]
  },
  {
   "cell_type": "code",
   "execution_count": 5,
   "metadata": {},
   "outputs": [],
   "source": [
    "def CNN_Model(input_shape):\n",
    "    X_input = Input(input_shape)\n",
    "    \n",
    "    ################# pre-CNN processing ################\n",
    "    X = X_input\n",
    "    #####################################################\n",
    "\n",
    "    ###################### Convolutional Blocks ######################\n",
    "    X = Conv_block(X, f=5, s=2, n_filters=32, name='L1',dropout = 0.2)\n",
    "    X = Conv_block(X, f=3, s=1, n_filters=16, name='L2', pooling = 2, dropout = 0.2)\n",
    "    X = Conv_block(X, f=1, s=1, n_filters=8, name='L3')\n",
    "    ##################################################################\n",
    "    \n",
    "    ##################### Fully-Connected blocks #####################\n",
    "    X = FC_block(X, n_filters=8, name='L4', flattenX = True)\n",
    "    X = FC_block(X, n_filters=1, name='L5', activation = 'sigmoid')\n",
    "    ##################################################################\n",
    "    \n",
    "    ################ Create  Keras model instance ################\n",
    "    model = Model(inputs = X_input, outputs = X, name='Face_Model')\n",
    "    return model"
   ]
  },
  {
   "cell_type": "markdown",
   "metadata": {},
   "source": [
    "## Compiling and testing models\n",
    "\n",
    "Define an optimizer and compile the CNN model set-up in the previous section. The model is then fitted to the train set (X_train, Y_train). The default setting is a size 16 mini-batch with Adam optimizer over 40 epochs. Then, the trained model is tested in 2 ways: against the test set (X_test, Y_test) using accuracy as the measure; and comparing some individual photos in the _images/_ folder (size 64×64)."
   ]
  },
  {
   "cell_type": "code",
   "execution_count": 6,
   "metadata": {},
   "outputs": [
    {
     "name": "stdout",
     "output_type": "stream",
     "text": [
      "Model: \"Face_Model\"\n",
      "_________________________________________________________________\n",
      "Layer (type)                 Output Shape              Param #   \n",
      "=================================================================\n",
      "input_1 (InputLayer)         (None, 64, 64, 3)         0         \n",
      "_________________________________________________________________\n",
      "do_L1 (Dropout)              (None, 64, 64, 3)         0         \n",
      "_________________________________________________________________\n",
      "conv_L1 (Conv2D)             (None, 32, 32, 32)        2432      \n",
      "_________________________________________________________________\n",
      "bn_L1 (BatchNormalization)   (None, 32, 32, 32)        128       \n",
      "_________________________________________________________________\n",
      "activation_1 (Activation)    (None, 32, 32, 32)        0         \n",
      "_________________________________________________________________\n",
      "do_L2 (Dropout)              (None, 32, 32, 32)        0         \n",
      "_________________________________________________________________\n",
      "conv_L2 (Conv2D)             (None, 32, 32, 16)        4624      \n",
      "_________________________________________________________________\n",
      "bn_L2 (BatchNormalization)   (None, 32, 32, 16)        64        \n",
      "_________________________________________________________________\n",
      "activation_2 (Activation)    (None, 32, 32, 16)        0         \n",
      "_________________________________________________________________\n",
      "pool_L2 (MaxPooling2D)       (None, 16, 16, 16)        0         \n",
      "_________________________________________________________________\n",
      "conv_L3 (Conv2D)             (None, 16, 16, 8)         136       \n",
      "_________________________________________________________________\n",
      "bn_L3 (BatchNormalization)   (None, 16, 16, 8)         32        \n",
      "_________________________________________________________________\n",
      "activation_3 (Activation)    (None, 16, 16, 8)         0         \n",
      "_________________________________________________________________\n",
      "flatten_1 (Flatten)          (None, 2048)              0         \n",
      "_________________________________________________________________\n",
      "fc_L4 (Dense)                (None, 8)                 16392     \n",
      "_________________________________________________________________\n",
      "bn_L4 (BatchNormalization)   (None, 8)                 32        \n",
      "_________________________________________________________________\n",
      "fc_L5 (Dense)                (None, 1)                 9         \n",
      "=================================================================\n",
      "Total params: 23,849\n",
      "Trainable params: 23,721\n",
      "Non-trainable params: 128\n",
      "_________________________________________________________________\n",
      "Epoch 1/40\n",
      "600/600 [==============================] - 2s 3ms/step - loss: 0.7915 - accuracy: 0.5400\n",
      "Epoch 2/40\n",
      "600/600 [==============================] - 1s 2ms/step - loss: 0.7197 - accuracy: 0.5800\n",
      "Epoch 3/40\n",
      "600/600 [==============================] - 1s 2ms/step - loss: 0.6083 - accuracy: 0.6500\n",
      "Epoch 4/40\n",
      "600/600 [==============================] - 1s 2ms/step - loss: 0.5257 - accuracy: 0.7317\n",
      "Epoch 5/40\n",
      "600/600 [==============================] - 1s 2ms/step - loss: 0.4691 - accuracy: 0.7550\n",
      "Epoch 6/40\n",
      "600/600 [==============================] - 1s 2ms/step - loss: 0.4467 - accuracy: 0.7983\n",
      "Epoch 7/40\n",
      "600/600 [==============================] - 1s 2ms/step - loss: 0.4115 - accuracy: 0.8217\n",
      "Epoch 8/40\n",
      "600/600 [==============================] - 1s 2ms/step - loss: 0.3670 - accuracy: 0.8383\n",
      "Epoch 9/40\n",
      "600/600 [==============================] - 1s 2ms/step - loss: 0.3495 - accuracy: 0.8483\n",
      "Epoch 10/40\n",
      "600/600 [==============================] - 1s 2ms/step - loss: 0.3487 - accuracy: 0.8633\n",
      "Epoch 11/40\n",
      "600/600 [==============================] - 1s 2ms/step - loss: 0.3211 - accuracy: 0.8750\n",
      "Epoch 12/40\n",
      "600/600 [==============================] - 1s 2ms/step - loss: 0.2961 - accuracy: 0.8800\n",
      "Epoch 13/40\n",
      "600/600 [==============================] - 1s 2ms/step - loss: 0.3044 - accuracy: 0.8750\n",
      "Epoch 14/40\n",
      "600/600 [==============================] - 1s 2ms/step - loss: 0.3047 - accuracy: 0.8783\n",
      "Epoch 15/40\n",
      "600/600 [==============================] - 1s 2ms/step - loss: 0.2661 - accuracy: 0.9000\n",
      "Epoch 16/40\n",
      "600/600 [==============================] - 1s 2ms/step - loss: 0.2609 - accuracy: 0.8983\n",
      "Epoch 17/40\n",
      "600/600 [==============================] - 1s 2ms/step - loss: 0.2742 - accuracy: 0.8967\n",
      "Epoch 18/40\n",
      "600/600 [==============================] - 1s 2ms/step - loss: 0.2229 - accuracy: 0.9183\n",
      "Epoch 19/40\n",
      "600/600 [==============================] - 1s 2ms/step - loss: 0.2206 - accuracy: 0.9217\n",
      "Epoch 20/40\n",
      "600/600 [==============================] - 1s 2ms/step - loss: 0.2067 - accuracy: 0.9333\n",
      "Epoch 21/40\n",
      "600/600 [==============================] - 1s 2ms/step - loss: 0.2072 - accuracy: 0.9333\n",
      "Epoch 22/40\n",
      "600/600 [==============================] - 1s 2ms/step - loss: 0.2337 - accuracy: 0.9250\n",
      "Epoch 23/40\n",
      "600/600 [==============================] - 1s 2ms/step - loss: 0.2027 - accuracy: 0.9267\n",
      "Epoch 24/40\n",
      "600/600 [==============================] - 1s 2ms/step - loss: 0.2066 - accuracy: 0.9283\n",
      "Epoch 25/40\n",
      "600/600 [==============================] - 1s 2ms/step - loss: 0.1922 - accuracy: 0.9417\n",
      "Epoch 26/40\n",
      "600/600 [==============================] - 1s 2ms/step - loss: 0.1993 - accuracy: 0.9383\n",
      "Epoch 27/40\n",
      "600/600 [==============================] - 1s 2ms/step - loss: 0.1821 - accuracy: 0.9317\n",
      "Epoch 28/40\n",
      "600/600 [==============================] - 1s 2ms/step - loss: 0.1721 - accuracy: 0.9550\n",
      "Epoch 29/40\n",
      "600/600 [==============================] - 1s 2ms/step - loss: 0.1690 - accuracy: 0.9467\n",
      "Epoch 30/40\n",
      "600/600 [==============================] - 1s 2ms/step - loss: 0.1831 - accuracy: 0.9467\n",
      "Epoch 31/40\n",
      "600/600 [==============================] - 1s 2ms/step - loss: 0.1735 - accuracy: 0.9383\n",
      "Epoch 32/40\n",
      "600/600 [==============================] - 1s 2ms/step - loss: 0.1422 - accuracy: 0.9567\n",
      "Epoch 33/40\n",
      "600/600 [==============================] - 1s 2ms/step - loss: 0.1607 - accuracy: 0.9433: 0s - loss: 0.1605 - accuracy: 0.94\n",
      "Epoch 34/40\n",
      "600/600 [==============================] - 1s 2ms/step - loss: 0.1463 - accuracy: 0.9517\n",
      "Epoch 35/40\n",
      "600/600 [==============================] - 1s 2ms/step - loss: 0.1674 - accuracy: 0.9350\n",
      "Epoch 36/40\n",
      "600/600 [==============================] - 1s 2ms/step - loss: 0.1542 - accuracy: 0.9483\n",
      "Epoch 37/40\n",
      "600/600 [==============================] - 1s 2ms/step - loss: 0.1432 - accuracy: 0.9583\n",
      "Epoch 38/40\n",
      "600/600 [==============================] - 1s 2ms/step - loss: 0.1539 - accuracy: 0.9567\n",
      "Epoch 39/40\n",
      "600/600 [==============================] - 1s 2ms/step - loss: 0.1201 - accuracy: 0.9617\n",
      "Epoch 40/40\n",
      "600/600 [==============================] - 1s 2ms/step - loss: 0.1547 - accuracy: 0.9500\n"
     ]
    },
    {
     "data": {
      "text/plain": [
       "<keras.callbacks.callbacks.History at 0x143ad9dd0>"
      ]
     },
     "execution_count": 6,
     "metadata": {},
     "output_type": "execute_result"
    }
   ],
   "source": [
    "adam = optimizers.Adam(lr=0.0003, beta_1=0.9, beta_2=0.999)\n",
    "CNNModel = CNN_Model(X_train.shape[1:])\n",
    "CNNModel.summary()\n",
    "CNNModel.compile(loss='binary_crossentropy', optimizer=adam, metrics = [\"accuracy\"])\n",
    "CNNModel.fit(x = X_train, y = Y_train, epochs = 40, batch_size = 16)"
   ]
  },
  {
   "cell_type": "code",
   "execution_count": 7,
   "metadata": {},
   "outputs": [
    {
     "name": "stdout",
     "output_type": "stream",
     "text": [
      "150/150 [==============================] - 0s 1ms/step\n",
      "Loss = 0.177463478645\n",
      "Test Accuracy = 0.946666657925\n"
     ]
    }
   ],
   "source": [
    "preds = CNNModel.evaluate(x = X_test, y = Y_test)\n",
    "\n",
    "print (\"Loss = \" + str(preds[0]))\n",
    "print (\"Test Accuracy = \" + str(preds[1]))"
   ]
  },
  {
   "cell_type": "code",
   "execution_count": 10,
   "metadata": {},
   "outputs": [
    {
     "name": "stdout",
     "output_type": "stream",
     "text": [
      "[[1.]]\n"
     ]
    },
    {
     "data": {
      "image/png": "[encoded data removed]",
      "text/plain": [
       "<Figure size 432x288 with 1 Axes>"
      ]
     },
     "metadata": {
      "needs_background": "light"
     },
     "output_type": "display_data"
    }
   ],
   "source": [
    "img_path = 'images/image1.jpg'\n",
    "\n",
    "img = image.load_img(img_path, target_size=(64, 64))\n",
    "imshow(img)\n",
    "\n",
    "x = image.img_to_array(img)\n",
    "x = np.expand_dims(x, axis=0)\n",
    "x = preprocess_input(x)\n",
    "\n",
    "print(CNNModel.predict(x))"
   ]
  },
  {
   "cell_type": "code",
   "execution_count": null,
   "metadata": {},
   "outputs": [],
   "source": []
  }
 ],
 "metadata": {
  "kernelspec": {
   "display_name": "Python 2",
   "language": "python",
   "name": "python2"
  },
  "language_info": {
   "codemirror_mode": {
    "name": "ipython",
    "version": 2
   },
   "file_extension": ".py",
   "mimetype": "text/x-python",
   "name": "python",
   "nbconvert_exporter": "python",
   "pygments_lexer": "ipython2",
   "version": "2.7.16"
  }
 },
 "nbformat": 4,
 "nbformat_minor": 2
}
